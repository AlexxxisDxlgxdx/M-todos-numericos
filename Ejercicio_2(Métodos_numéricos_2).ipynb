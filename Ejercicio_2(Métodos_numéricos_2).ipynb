{
  "nbformat": 4,
  "nbformat_minor": 0,
  "metadata": {
    "colab": {
      "provenance": [],
      "authorship_tag": "ABX9TyOyzmdv1PQ/mTOlAwZda2cl",
      "include_colab_link": true
    },
    "kernelspec": {
      "name": "python3",
      "display_name": "Python 3"
    },
    "language_info": {
      "name": "python"
    }
  },
  "cells": [
    {
      "cell_type": "markdown",
      "metadata": {
        "id": "view-in-github",
        "colab_type": "text"
      },
      "source": [
        "<a href=\"https://colab.research.google.com/github/AlexxxisDxlgxdx/M-todos-numericos/blob/main/Ejercicio_2(M%C3%A9todos_num%C3%A9ricos_2).ipynb\" target=\"_parent\"><img src=\"https://colab.research.google.com/assets/colab-badge.svg\" alt=\"Open In Colab\"/></a>"
      ]
    },
    {
      "cell_type": "markdown",
      "source": [
        "#Ejercicio 2\n",
        "Fenómeno Runge"
      ],
      "metadata": {
        "id": "nVn6jT-rCxRv"
      }
    },
    {
      "cell_type": "code",
      "execution_count": 137,
      "metadata": {
        "id": "LMPTUoFm-6Fk"
      },
      "outputs": [],
      "source": [
        "import numpy as np\n",
        "from numpy.polynomial import Polynomial\n",
        "import matplotlib.pyplot as plt\n",
        "\n",
        "def lagrange(x, y):\n",
        "    n = len(x)\n",
        "    # Calculamos los polinomios base\n",
        "    L = []\n",
        "    itr = Polynomial(0)\n",
        "    for i in range(n):\n",
        "        base = Polynomial([1])\n",
        "        for j in range(n):\n",
        "            if j != i:\n",
        "                factor = Polynomial([-x[j], 1])/(x[i]-x[j])\n",
        "                base = base * factor\n",
        "        L.append(base)\n",
        "        itr += y[i] * base\n",
        "    return itr, L\n",
        "\n",
        "def newton(x, y):\n",
        "    n = len(x)\n",
        "    N = np.zeros((n, n))\n",
        "    # Completamos la tabla de diferencias divididas\n",
        "    N[0,:] = y\n",
        "    for i in range(1,n):\n",
        "        for j in range(n-i):\n",
        "            top = N[i-1,j] - N[i-1,j+1]\n",
        "            bottom = x[j] - x[j+i]\n",
        "            N[i,j] = top/bottom\n",
        "\n",
        "    # Calculamos los polinomios base\n",
        "    itr = Polynomial(0)\n",
        "    for i in range(n):\n",
        "        base = Polynomial([1])\n",
        "        for j in range(i):\n",
        "            factor = Polynomial([-x[j], 1])\n",
        "            base = base * factor\n",
        "        itr += N[i,0] * base\n",
        "    return itr, N\n"
      ]
    },
    {
      "cell_type": "code",
      "source": [
        "import numpy as np\n",
        "import sympy as sp\n",
        "import math\n",
        "\n",
        "# f_sym: Es una función simbólica de variable 'x' que representa la función a aproximar\n",
        "# nodes: Lista que contiene los nodos de la interpolación\n",
        "# xs: Lista de puntos donde evaluar el error\n",
        "# error_bound: Lista de las cotas de error\n",
        "def general_error_bound(f_sym, nodes, xs):\n",
        "    n = len(nodes)\n",
        "    a = min(nodes)\n",
        "    b = max(nodes)\n",
        "    x_sym = sp.symbols('x')\n",
        "\n",
        "    # Calculamos la n derivada de la función\n",
        "    nth_derivative = sp.diff(f_sym, x_sym, n)\n",
        "\n",
        "    # Calculamos las cota de error\n",
        "    M = sp.maximum(nth_derivative, x_sym, sp.Interval(a, b)).evalf()\n",
        "    error_bound = []\n",
        "    for elem in xs:\n",
        "        P = 1\n",
        "        for i in range(n):\n",
        "            P *= abs(elem - nodes[i])\n",
        "        error_bound.append(P*M/math.factorial(n))\n",
        "    return error_bound\n",
        "\n",
        "# f_sym: Es una función simbólica de variable 'x' que representa la función a aproximar\n",
        "# n: Es el número de nodos que se van a utilizar en la interpolación\n",
        "# a, b: Intervalo de la interpolación\n",
        "# error_bound: La cota del error para una interpolación con nodos igualmente espaciados\n",
        "def evenly_error_bound(f_sym, n, a, b):\n",
        "    x_sym = sp.symbols('x')\n",
        "\n",
        "    # Calculamos la n derivada de la función\n",
        "    nth_derivative = sp.diff(f_sym, x_sym, n)\n",
        "\n",
        "    # Calculamos la cota de error\n",
        "    M = sp.maximum(nth_derivative, x_sym, sp.Interval(a, b)).evalf()\n",
        "    h = (b-a)/(n-1)\n",
        "    error_bound = h**n*M/(4*n)\n",
        "\n",
        "    return error_bound\n"
      ],
      "metadata": {
        "id": "v90HioxmCb8U"
      },
      "execution_count": 136,
      "outputs": []
    },
    {
      "cell_type": "markdown",
      "source": [
        "#Datos"
      ],
      "metadata": {
        "id": "OldS1tJ0EU6D"
      }
    },
    {
      "cell_type": "code",
      "source": [
        "#Definiendo funcion\n",
        "def runge_function(x):\n",
        "    return 1 / (1 + x**2)\n"
      ],
      "metadata": {
        "id": "qgEcsi8aEZ3N"
      },
      "execution_count": 132,
      "outputs": []
    },
    {
      "cell_type": "markdown",
      "source": [
        "##a) Obtén elpolinomio interpolador de grado 4 que aproxima a la función de Runge tomando nodos equiespaciados en el intervalo [-5,5]"
      ],
      "metadata": {
        "id": "SEsP69GlDn08"
      }
    },
    {
      "cell_type": "code",
      "source": [
        "#Calculamos nodos equiespaciados en el intervalo[5,5]\n",
        "x_nodos = np.linspace(-5, 5, 5)\n",
        "y_nodos = runge_function(x_nodos)"
      ],
      "metadata": {
        "id": "8QJohi0nE0-L"
      },
      "execution_count": 120,
      "outputs": []
    },
    {
      "cell_type": "code",
      "source": [
        "# Calculamos el polinomio de interpolación\n",
        "p, L = lagrange(x_nodos, y_nodos)\n",
        "\n",
        "# Imprimimos el polinomio interpolador\n",
        "print(f\"Polinomio interpolador: P(x) = {p}\")"
      ],
      "metadata": {
        "colab": {
          "base_uri": "https://localhost:8080/"
        },
        "id": "HAAKb0HxF_7a",
        "outputId": "30460fec-11d5-467f-9758-a7ef180a8de1"
      },
      "execution_count": 121,
      "outputs": [
        {
          "output_type": "stream",
          "name": "stdout",
          "text": [
            "Polinomio interpolador: P(x) = 1.0 + (5.7896396e-17)·x - 0.17108753·x² - (4.06575815e-19)·x³ +\n",
            "0.00530504·x⁴\n"
          ]
        }
      ]
    },
    {
      "cell_type": "code",
      "source": [
        "#Calculamos cota de error para una interpolación con nodos igualmente espaciados\n",
        "x = sp.symbols('x')\n",
        "f_sym = 1 / (1 + x**2)\n",
        "evenly_error_bound(f_sym, 5, -5, 5)"
      ],
      "metadata": {
        "colab": {
          "base_uri": "https://localhost:8080/",
          "height": 37
        },
        "id": "N8Tk4NTWQuQu",
        "outputId": "082e921a-7059-448f-80c2-ec7f65d5da9d"
      },
      "execution_count": 138,
      "outputs": [
        {
          "output_type": "execute_result",
          "data": {
            "text/plain": [
              "490.522377612445"
            ],
            "text/latex": "$\\displaystyle 490.522377612445$"
          },
          "metadata": {},
          "execution_count": 138
        }
      ]
    },
    {
      "cell_type": "markdown",
      "source": [
        "###Graficando polinomio interpolador, función y su error"
      ],
      "metadata": {
        "id": "HWAdjItiaPzH"
      }
    },
    {
      "cell_type": "code",
      "source": [
        "def plot_interpolation(f, x_nodos):\n",
        "    # Evaluamos los nodos\n",
        "    y_nodos = f(x_nodos)\n",
        "\n",
        "    # Calculamos el polinomio interpolador\n",
        "    p, _ = lagrange(x_nodos, y_nodos)\n",
        "\n",
        "    # Valores para graficar\n",
        "    x_vals = np.linspace(-7, 7, 500)  # Valores de x para la gráfica\n",
        "    y_vals = f(x_vals)  # Valores de la función original\n",
        "    p_vals = p(x_vals)  # Valores del polinomio interpolador\n",
        "\n",
        "    # Graficamos la función original\n",
        "    plt.plot(x_vals, y_vals, label='Función original: $f(x) = \\\\frac{1}{1+x^2}$', color='blue')\n",
        "\n",
        "    # Graficamos el polinomio interpolador\n",
        "    plt.plot(x_vals, p_vals, label='Polinomio Interpolador', color='red', linestyle='--')\n",
        "\n",
        "    # Graficamos los nodos\n",
        "    plt.scatter(x_nodos, y_nodos, color='green', marker='o', label='Nodos de Interpolación')\n",
        "\n",
        "    # Generamos gráfica\n",
        "    plt.title('Interpolación de Lagrange')\n",
        "    plt.xlabel('x')\n",
        "    plt.ylabel('f(x)')\n",
        "    plt.axhline(0, color='black', linewidth=0.5, ls='--')\n",
        "    plt.axvline(0, color='black', linewidth=0.5, ls='--')\n",
        "    plt.grid()\n",
        "    plt.legend()\n",
        "    plt.show()"
      ],
      "metadata": {
        "id": "blbkoasaaKZH"
      },
      "execution_count": 118,
      "outputs": []
    },
    {
      "cell_type": "code",
      "source": [
        "#Graficando\n",
        "plot_interpolation(runge_function, x_nodos)"
      ],
      "metadata": {
        "colab": {
          "base_uri": "https://localhost:8080/",
          "height": 472
        },
        "id": "g8dImd-HajVk",
        "outputId": "7b92417a-46a8-4d90-ed97-a7e33afcfda1"
      },
      "execution_count": 117,
      "outputs": [
        {
          "output_type": "display_data",
          "data": {
            "text/plain": [
              "<Figure size 640x480 with 1 Axes>"
            ],
            "image/png": "[encoded data removed]"
          },
          "metadata": {}
        }
      ]
    },
    {
      "cell_type": "code",
      "source": [
        "def plot_error_bounds(f_sym, n, a, b):\n",
        "    x_vals = np.linspace(a, b, 500)\n",
        "    error_bounds = []\n",
        "\n",
        "    for x_eval in x_vals:\n",
        "        error_bound = evenly_error_bound(f_sym, n, a, x_eval)\n",
        "        error_bounds.append(error_bound)\n",
        "\n",
        "    plt.plot(x_vals, error_bounds, label=\"Cota del Error\")\n",
        "    plt.xlabel('x')\n",
        "    plt.ylabel('Cota del Error')\n",
        "    plt.title(f'Cota del Error en función de x para n = {n}')\n",
        "    plt.grid(True)\n",
        "    plt.legend()\n",
        "    plt.show()\n"
      ],
      "metadata": {
        "id": "KnnfGYhadXw3"
      },
      "execution_count": 139,
      "outputs": []
    },
    {
      "cell_type": "code",
      "source": [
        "plot_error_bounds(f_sym, 5, -5, 5)"
      ],
      "metadata": {
        "id": "5QX_5MAqh2QI"
      },
      "execution_count": null,
      "outputs": []
    },
    {
      "cell_type": "markdown",
      "source": [
        "\n",
        "\n",
        "##b) Comprueba que al aumentar el grado del polinomio en vez de mejorar empeora.\n",
        "\n"
      ],
      "metadata": {
        "id": "7fxpith4DntE"
      }
    },
    {
      "cell_type": "markdown",
      "source": [
        "###Comprobando con polinomio de grado 5\n",
        "\n",
        "\n"
      ],
      "metadata": {
        "id": "wAdG8A3HV1NS"
      }
    },
    {
      "cell_type": "code",
      "source": [
        "#Calculamos nodos equiespaciados en el intervalo[5,5]  pero con polinomio de grado 5\n",
        "x_nodos = np.linspace(-5, 5, 6)\n",
        "y_nodos = runge_function(x_nodos)"
      ],
      "metadata": {
        "id": "mKLZdWmsE1Yb"
      },
      "execution_count": 74,
      "outputs": []
    },
    {
      "cell_type": "code",
      "source": [
        "# Calculamos el polinomio de interpolación\n",
        "p, L = lagrange(x_nodos, y_nodos)\n",
        "\n",
        "# Imprimimos el polinomio interpolador\n",
        "print(f\"Polinomio interpolador: P(x) = {p}\")"
      ],
      "metadata": {
        "colab": {
          "base_uri": "https://localhost:8080/"
        },
        "id": "vnugmKHKQYnQ",
        "outputId": "9a8fd7d6-150c-4c7f-ebef-ae3daf338b66"
      },
      "execution_count": 75,
      "outputs": [
        {
          "output_type": "stream",
          "name": "stdout",
          "text": [
            "Polinomio interpolador: P(x) = 0.56730769 + (1.76182853e-17)·x - 0.06923077·x² - (1.60055346e-17)·x³ +\n",
            "0.00192308·x⁴ + (8.47032947e-21)·x⁵\n"
          ]
        }
      ]
    },
    {
      "cell_type": "code",
      "source": [
        "#Calculamos cota de error para una interpolación con nodos igualmente espaciados de polinomio de grado 5\n",
        "x = sp.symbols('x')\n",
        "f_sym = 1 / (1 + x**2)\n",
        "evenly_error_bound(f_sym, 5, -5, 6)"
      ],
      "metadata": {
        "colab": {
          "base_uri": "https://localhost:8080/",
          "height": 37
        },
        "id": "uy4__p6EVeL9",
        "outputId": "0cb90b2a-7a1a-48c7-9c7a-5971e50c565e"
      },
      "execution_count": 76,
      "outputs": [
        {
          "output_type": "execute_result",
          "data": {
            "text/plain": [
              "789.991194368619"
            ],
            "text/latex": "$\\displaystyle 789.991194368619$"
          },
          "metadata": {},
          "execution_count": 76
        }
      ]
    },
    {
      "cell_type": "markdown",
      "source": [
        "###Comprobando con polinomio de grado 6\n",
        "\n",
        "\n",
        "\n"
      ],
      "metadata": {
        "id": "lbIhc-CtWVo1"
      }
    },
    {
      "cell_type": "code",
      "source": [
        "#Calculamos nodos equiespaciados en el intervalo[5,5]  pero con polinomio de grado 6\n",
        "x_nodos = np.linspace(-5, 5, 7)\n",
        "y_nodos = runge_function(x_nodos)"
      ],
      "metadata": {
        "id": "MuyLQJEXWA1N"
      },
      "execution_count": 79,
      "outputs": []
    },
    {
      "cell_type": "code",
      "source": [
        "# Calculamos el polinomio de interpolación\n",
        "p, L = lagrange(x_nodos, y_nodos)\n",
        "\n",
        "# Imprimimos el polinomio interpolador\n",
        "print(f\"Polinomio interpolador: P(x) = {p}\")"
      ],
      "metadata": {
        "colab": {
          "base_uri": "https://localhost:8080/"
        },
        "id": "YMFLvoH1Wgfd",
        "outputId": "5e334290-a9db-4f36-e62b-d6153109ae1b"
      },
      "execution_count": 80,
      "outputs": [
        {
          "output_type": "stream",
          "name": "stdout",
          "text": [
            "Polinomio interpolador: P(x) = 1.0 + (1.33411077e-16)·x - 0.35136369·x² - (1.67509236e-17)·x³ +\n",
            "0.0335319·x⁴ + (1.81942677e-18)·x⁵ - 0.00084063·x⁶\n"
          ]
        }
      ]
    },
    {
      "cell_type": "code",
      "source": [
        "#Calculamos cota de  error para una interpolación con nodos igualmente espaciados de polinomio de grado 6\n",
        "x = sp.symbols('x')\n",
        "f_sym = 1 / (1 + x**2)\n",
        "evenly_error_bound(f_sym, 5, -5, 7)"
      ],
      "metadata": {
        "colab": {
          "base_uri": "https://localhost:8080/",
          "height": 37
        },
        "id": "KPgWyrl-WocW",
        "outputId": "1e59a9fe-7cca-4d0a-8bf8-3ebc20486a98"
      },
      "execution_count": 81,
      "outputs": [
        {
          "output_type": "execute_result",
          "data": {
            "text/plain": [
              "1220.57664266060"
            ],
            "text/latex": "$\\displaystyle 1220.5766426606$"
          },
          "metadata": {},
          "execution_count": 81
        }
      ]
    },
    {
      "cell_type": "markdown",
      "source": [
        "###Comprobando con polinomio de grado 8"
      ],
      "metadata": {
        "id": "ai537bFPXyof"
      }
    },
    {
      "cell_type": "code",
      "source": [
        "#Calculamos nodos equiespaciados en el intervalo[5,5]  pero con polinomio de grado 8\n",
        "x_nodos = np.linspace(-5, 5, 9)\n",
        "y_nodos = runge_function(x_nodos)"
      ],
      "metadata": {
        "id": "8QwAH3R0X5s1"
      },
      "execution_count": 82,
      "outputs": []
    },
    {
      "cell_type": "code",
      "source": [
        "# Calculamos el polinomio de interpolación\n",
        "p, L = lagrange(x_nodos, y_nodos)\n",
        "\n",
        "# Imprimimos el polinomio interpolador\n",
        "print(f\"Polinomio interpolador: P(x) = {p}\")"
      ],
      "metadata": {
        "colab": {
          "base_uri": "https://localhost:8080/"
        },
        "id": "Arl6pDzuYD_c",
        "outputId": "9a911c40-a669-4dc0-90a2-ffeb1a570957"
      },
      "execution_count": 83,
      "outputs": [
        {
          "output_type": "stream",
          "name": "stdout",
          "text": [
            "Polinomio interpolador: P(x) = 1.0 - (4.98732999e-18)·x - 0.52812138·x² + (1.01589744e-16)·x³ +\n",
            "0.09818753·x⁴ + (2.6762853e-17)·x⁵ - 0.00658016·x⁶ + (1.2006692e-19)·x⁷ +\n",
            "0.00013744·x⁸\n"
          ]
        }
      ]
    },
    {
      "cell_type": "code",
      "source": [
        "#Calculamos cota de  error para una interpolación con nodos igualmente espaciados de polinomio de grado 8\n",
        "x = sp.symbols('x')\n",
        "f_sym = 1 / (1 + x**2)\n",
        "evenly_error_bound(f_sym, 5, -5, 9)"
      ],
      "metadata": {
        "colab": {
          "base_uri": "https://localhost:8080/",
          "height": 37
        },
        "id": "nwfDwZd4YHfG",
        "outputId": "c9c6430e-9520-4ccc-b7c0-c8723af05349"
      },
      "execution_count": 84,
      "outputs": [
        {
          "output_type": "execute_result",
          "data": {
            "text/plain": [
              "2638.14707217036"
            ],
            "text/latex": "$\\displaystyle 2638.14707217036$"
          },
          "metadata": {},
          "execution_count": 84
        }
      ]
    },
    {
      "cell_type": "markdown",
      "source": [
        "###Comprobando con polinomio de grado 10"
      ],
      "metadata": {
        "id": "G3GYD7BCYouL"
      }
    },
    {
      "cell_type": "code",
      "source": [
        "#Calculamos nodos equiespaciados en el intervalo[5,5]  pero con polinomio de grado 10\n",
        "x_nodos = np.linspace(-5, 5, 11)\n",
        "y_nodos = runge_function(x_nodos)"
      ],
      "metadata": {
        "id": "ID_kyWMrYqCT"
      },
      "execution_count": 85,
      "outputs": []
    },
    {
      "cell_type": "code",
      "source": [
        "# Calculamos el polinomio de interpolación\n",
        "p, L = lagrange(x_nodos, y_nodos)\n",
        "\n",
        "# Imprimimos el polinomio interpolador\n",
        "print(f\"Polinomio interpolador: P(x) = {p}\")"
      ],
      "metadata": {
        "colab": {
          "base_uri": "https://localhost:8080/"
        },
        "id": "PbD3pH5dYvGn",
        "outputId": "440979d6-1225-4e66-e70a-4a7f406fcd81"
      },
      "execution_count": 86,
      "outputs": [
        {
          "output_type": "stream",
          "name": "stdout",
          "text": [
            "Polinomio interpolador: P(x) = 1.0 - (1.47668336e-16)·x - 0.67420814·x² - (1.71622428e-16)·x³ +\n",
            "0.19737557·x⁴ + (1.00053226e-16)·x⁵ - 0.02441176·x⁶ + (7.9773563e-18)·x⁷ +\n",
            "0.00126697·x⁸ - (9.49603343e-21)·x⁹ - (2.26244344e-05)·x¹⁰\n"
          ]
        }
      ]
    },
    {
      "cell_type": "code",
      "source": [
        "#Calculamos cota de  error para una interpolación con nodos igualmente espaciados de polinomio de grado 10\n",
        "x = sp.symbols('x')\n",
        "f_sym = 1 / (1 + x**2)\n",
        "evenly_error_bound(f_sym, 5, -5, 11)"
      ],
      "metadata": {
        "colab": {
          "base_uri": "https://localhost:8080/",
          "height": 37
        },
        "id": "cRqwOAUoY3dV",
        "outputId": "e277d1be-2e72-48e4-c60e-5ea79eaba175"
      },
      "execution_count": 87,
      "outputs": [
        {
          "output_type": "execute_result",
          "data": {
            "text/plain": [
              "5143.49992627347"
            ],
            "text/latex": "$\\displaystyle 5143.49992627347$"
          },
          "metadata": {},
          "execution_count": 87
        }
      ]
    },
    {
      "cell_type": "markdown",
      "source": [
        "#Conclusión\n",
        "\n",
        "\n"
      ],
      "metadata": {
        "id": "GvyQmRq2C4Ir"
      }
    },
    {
      "cell_type": "markdown",
      "source": [],
      "metadata": {
        "id": "QIDqWPpFE2AV"
      }
    }
  ]
}